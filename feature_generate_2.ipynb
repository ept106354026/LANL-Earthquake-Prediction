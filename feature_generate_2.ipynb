{
 "cells": [
  {
   "cell_type": "markdown",
   "metadata": {},
   "source": [
    "## STFT 中，每個時間點的前5/10大頻率成分(頻率本身，不是頻率的震幅)的標準差的平均、標準差、趨勢\n",
    "## 再考慮去掉 DC Term 、第 1 及 2 頻率成分的情況，因此共 2 X 3 X 3 = 18 個特徵\n"
   ]
  },
  {
   "cell_type": "code",
   "execution_count": null,
   "metadata": {
    "_cell_guid": "79c7e3d0-c299-4dcb-8224-4455121ee9b0",
    "_uuid": "d629ff2d2480ee46fbb7e2d37f6b5fab8052498a"
   },
   "outputs": [],
   "source": [
    "import numpy as np \n",
    "import pandas as pd\n",
    "import os\n",
    "from tqdm import tqdm,tqdm_notebook\n",
    "from scipy.signal import stft\n",
    "import matplotlib.pyplot as plt"
   ]
  },
  {
   "cell_type": "code",
   "execution_count": null,
   "metadata": {
    "_cell_guid": "79c7e3d0-c299-4dcb-8224-4455121ee9b0",
    "_uuid": "d629ff2d2480ee46fbb7e2d37f6b5fab8052498a"
   },
   "outputs": [],
   "source": [
    "# Import\n",
    "float_data = pd.read_csv(\"../input/train.csv\", dtype={\"acoustic_data\": np.float32, \"time_to_failure\": np.float32}).values"
   ]
  },
  {
   "cell_type": "code",
   "execution_count": null,
   "metadata": {},
   "outputs": [],
   "source": [
    "from sklearn.linear_model import LinearRegression\n",
    "\n",
    "def add_trend_feature(arr, abs_values=False):\n",
    "    idx = np.array(range(len(arr)))\n",
    "    if abs_values:\n",
    "        arr = np.abs(arr)\n",
    "    lr = LinearRegression()\n",
    "    lr.fit(idx.reshape(-1, 1), arr)\n",
    "    return lr.coef_[0]\n",
    "def add_trend_feature_abs(arr, abs_values=True):\n",
    "    idx = np.array(range(len(arr)))\n",
    "    if abs_values:\n",
    "        arr = np.abs(arr)\n",
    "    lr = LinearRegression()\n",
    "    lr.fit(idx.reshape(-1, 1), arr)\n",
    "    return lr.coef_[0]"
   ]
  },
  {
   "cell_type": "code",
   "execution_count": null,
   "metadata": {},
   "outputs": [],
   "source": [
    "def create_feature(wave):\n",
    "    fft_spe = abs(stft(wave)[2])[:,:]\n",
    "    f = []\n",
    "    for j in range(3):\n",
    "        max_freq_seq10 = np.apply_along_axis(lambda t :np.where(t>=np.quantile(t,124/129))[0].std(),0,fft_spe[j:,:])\n",
    "        max_freq_seq5 = np.apply_along_axis(lambda t :np.where(t>=np.quantile(t,119/129))[0].std(),0,fft_spe[j:,:])\n",
    "        f.append(max_freq_seq10.mean())\n",
    "        f.append(max_freq_seq10.std())\n",
    "        f.append(add_trend_feature(max_freq_seq10))\n",
    "        f.append(max_freq_seq5.mean())\n",
    "        f.append(max_freq_seq5.std())\n",
    "        f.append(add_trend_feature(max_freq_seq5))\n",
    "    return np.r_[f]"
   ]
  },
  {
   "cell_type": "code",
   "execution_count": null,
   "metadata": {},
   "outputs": [],
   "source": [
    "# 該波段 stft 後，最大震幅的頻率平均\n",
    "segment = 150000\n",
    "total = int(len(float_data)/150000)\n",
    "f_list = []\n",
    "target = []\n",
    "for i in tqdm_notebook(range(total)):\n",
    "    wave = float_data[i*segment:(i+1)*segment,0]\n",
    "    f_list.append(create_feature(wave))\n",
    "    target.append(float_data[i*segment+149999,1])"
   ]
  },
  {
   "cell_type": "code",
   "execution_count": null,
   "metadata": {},
   "outputs": [],
   "source": [
    "col = []\n",
    "for i in range(3):\n",
    "    for sta in ['max_freq_10_Mean','max_freq_10_Std','max_freq_10_Trend','max_freq_5_Mean','max_freq_5_Std','max_freq_5_Trend']:\n",
    "        col += [f'fft_{i}_{sta}']"
   ]
  },
  {
   "cell_type": "code",
   "execution_count": null,
   "metadata": {},
   "outputs": [],
   "source": [
    "X = pd.DataFrame(np.array(f_list),columns=col)\n",
    "y = pd.Series(target)"
   ]
  },
  {
   "cell_type": "code",
   "execution_count": null,
   "metadata": {},
   "outputs": [],
   "source": [
    "submit = pd.read_csv('../input/sample_submission.csv')"
   ]
  },
  {
   "cell_type": "code",
   "execution_count": null,
   "metadata": {
    "collapsed": true
   },
   "outputs": [],
   "source": [
    "f_list = []\n",
    "for seg_id in tqdm_notebook(submit.seg_id):\n",
    "    wave = pd.read_csv(f'../input/test/{seg_id}.csv').values[:,0]\n",
    "    f_list.append(create_feature(wave))"
   ]
  },
  {
   "cell_type": "code",
   "execution_count": null,
   "metadata": {},
   "outputs": [],
   "source": [
    "X_test = pd.DataFrame(f_list,index=submit.seg_id,columns=col)"
   ]
  },
  {
   "cell_type": "code",
   "execution_count": null,
   "metadata": {},
   "outputs": [],
   "source": [
    "X.to_csv('X.csv')\n",
    "y.to_csv('y.csv')\n",
    "X_test.to_csv('X_test.csv')"
   ]
  }
 ],
 "metadata": {
  "kernelspec": {
   "display_name": "Python 3",
   "language": "python",
   "name": "python3"
  },
  "language_info": {
   "codemirror_mode": {
    "name": "ipython",
    "version": 3
   },
   "file_extension": ".py",
   "mimetype": "text/x-python",
   "name": "python",
   "nbconvert_exporter": "python",
   "pygments_lexer": "ipython3",
   "version": "3.7.4"
  }
 },
 "nbformat": 4,
 "nbformat_minor": 1
}
